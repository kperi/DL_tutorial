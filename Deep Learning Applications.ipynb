{
 "cells": [
  {
   "cell_type": "markdown",
   "metadata": {},
   "source": [
    "# More examples of the Deep Learning World"
   ]
  },
  {
   "cell_type": "markdown",
   "metadata": {},
   "source": [
    "## Artistic Style Transfer\n",
    "    \n",
    "   \n",
    "### Train a neural net to \"understand\" and transfer artistic style\n",
    "\n",
    "![alt text](./media/computer-deep-learning-algorithm-painting-masters-6.jpg \"Style Transfer\")\n",
    "\n",
    "![alt text](./media/computer-deep-learning-algorithm-painting-masters-7.jpg \"Style Transfer\")\n",
    "    \n",
    "    \n",
    "\n",
    "\n",
    "http://www.boredpanda.com/computer-deep-learning-algorithm-painting-masters/\n",
    "\n",
    "https://arxiv.org/abs/1508.06576"
   ]
  },
  {
   "cell_type": "markdown",
   "metadata": {},
   "source": [
    "## Automatic Photo Colorization\n",
    "    \n",
    "   \n",
    "### Learn to colorize black & white photos\n",
    "\n",
    "![alt text](./media/teaser3.jpg \"Colorization\")\n",
    "\n",
    " \n",
    "\n",
    "\n",
    "|                                           |   \n",
    ":------------------------------------------:|:-------------------------:\n",
    "![alt text](./media/c0.jpg \"Colorization\")  |![alt text](./media/c1.jpg \"Colorization\")\n",
    "\n",
    "https://news.developer.nvidia.com/automatic-image-colorization-of-grayscale-images/"
   ]
  },
  {
   "cell_type": "markdown",
   "metadata": {},
   "source": [
    "## Inception\n",
    "   \n",
    "### Fear and loathing in Neural Net Land\n",
    "\n",
    "![alt text](./media/Funny-Animals.png \"Inception\")\n",
    "\n",
    "\n",
    "https://research.googleblog.com/2015/06/inceptionism-going-deeper-into-neural.html"
   ]
  },
  {
   "cell_type": "markdown",
   "metadata": {},
   "source": [
    "## Word2Vec and friends\n",
    "\n",
    "\n",
    "\n",
    "Given a reasonably large corpus of documents, we can train a neural net capable of understanding relationships like this one: \n",
    "\n",
    "> **Man is to woman as king is to queen**\n",
    "\n",
    "(without any other information)\n",
    "\n",
    "\n",
    "This is very useful for query expansion and query relevance in search engines \n",
    "\n",
    "https://en.wikipedia.org/wiki/Word2vec"
   ]
  },
  {
   "cell_type": "markdown",
   "metadata": {},
   "source": [
    "## Self Driving Cars \n",
    "\n"
   ]
  },
  {
   "cell_type": "code",
   "execution_count": 7,
   "metadata": {
    "collapsed": false,
    "scrolled": false
   },
   "outputs": [
    {
     "data": {
      "image/jpeg": "[encoded data removed]",
      "text/html": [
       "\n",
       "        <iframe\n",
       "            width=\"800\"\n",
       "            height=\"600\"\n",
       "            src=\"https://www.youtube.com/embed/Q14tkD5__dE\"\n",
       "            frameborder=\"0\"\n",
       "            allowfullscreen\n",
       "        ></iframe>\n",
       "        "
      ],
      "text/plain": [
       "<IPython.lib.display.YouTubeVideo at 0x7fb71069d8d0>"
      ]
     },
     "execution_count": 7,
     "metadata": {},
     "output_type": "execute_result"
    }
   ],
   "source": [
    "from IPython.display import YouTubeVideo\n",
    "YouTubeVideo('Q14tkD5__dE', width = 800, height=600)"
   ]
  },
  {
   "cell_type": "markdown",
   "metadata": {},
   "source": [
    "## Learning to play games (Deep Reinforcement Learning)"
   ]
  },
  {
   "cell_type": "code",
   "execution_count": 8,
   "metadata": {
    "collapsed": false
   },
   "outputs": [
    {
     "data": {
      "image/jpeg": "[encoded data removed]",
      "text/html": [
       "\n",
       "        <iframe\n",
       "            width=\"800\"\n",
       "            height=\"600\"\n",
       "            src=\"https://www.youtube.com/embed/L4KBBAwF_bE\"\n",
       "            frameborder=\"0\"\n",
       "            allowfullscreen\n",
       "        ></iframe>\n",
       "        "
      ],
      "text/plain": [
       "<IPython.lib.display.YouTubeVideo at 0x7fb715dbfa10>"
      ]
     },
     "execution_count": 8,
     "metadata": {},
     "output_type": "execute_result"
    }
   ],
   "source": [
    "\n",
    "from IPython.display import YouTubeVideo\n",
    "YouTubeVideo('L4KBBAwF_bE', width = 800, height=600)"
   ]
  },
  {
   "cell_type": "code",
   "execution_count": null,
   "metadata": {
    "collapsed": true
   },
   "outputs": [],
   "source": []
  }
 ],
 "metadata": {
  "kernelspec": {
   "display_name": "Python 2",
   "language": "python",
   "name": "python2"
  },
  "language_info": {
   "codemirror_mode": {
    "name": "ipython",
    "version": 2
   },
   "file_extension": ".py",
   "mimetype": "text/x-python",
   "name": "python",
   "nbconvert_exporter": "python",
   "pygments_lexer": "ipython2",
   "version": "2.7.6"
  }
 },
 "nbformat": 4,
 "nbformat_minor": 1
}
