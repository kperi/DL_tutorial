{
 "cells": [
  {
   "cell_type": "markdown",
   "metadata": {},
   "source": [
    "## Import packages"
   ]
  },
  {
   "cell_type": "code",
   "execution_count": 24,
   "metadata": {
    "collapsed": false
   },
   "outputs": [],
   "source": [
    "%matplotlib inline\n",
    "import math\n",
    "import pandas as pd\n",
    "import matplotlib.pyplot as plt\n",
    "from keras.callbacks import Callback, EarlyStopping, ModelCheckpoint\n",
    "from CFModel import CFModel, DeepModel"
   ]
  },
  {
   "cell_type": "markdown",
   "metadata": {},
   "source": [
    "## Define constants\n"
   ]
  },
  {
   "cell_type": "code",
   "execution_count": 25,
   "metadata": {
    "collapsed": true
   },
   "outputs": [],
   "source": [
    "RATINGS_CSV_FILE = 'ml1m_ratings.csv'\n",
    "MODEL_WEIGHTS_FILE = 'ml1m_weights.h5'\n",
    "K_FACTORS = 200\n",
    "RNG_SEED = 1231"
   ]
  },
  {
   "cell_type": "markdown",
   "metadata": {},
   "source": [
    "## Load MovieLens 1M data"
   ]
  },
  {
   "cell_type": "code",
   "execution_count": 31,
   "metadata": {
    "collapsed": false
   },
   "outputs": [
    {
     "name": "stdout",
     "output_type": "stream",
     "text": [
      "1000209 ratings loaded.\n"
     ]
    }
   ],
   "source": [
    "ratings = pd.read_csv(RATINGS_CSV_FILE, \n",
    "                      sep='\\t', \n",
    "                      encoding='latin-1', \n",
    "                      usecols=['userid', 'movieid', 'user_emb_id', 'movie_emb_id', 'rating'],\n",
    "                     )\n",
    "max_userid = ratings['userid'].drop_duplicates().max()\n",
    "max_movieid = ratings['movieid'].drop_duplicates().max()\n",
    "print len(ratings), 'ratings loaded.'"
   ]
  },
  {
   "cell_type": "markdown",
   "metadata": {},
   "source": [
    "## Create training set"
   ]
  },
  {
   "cell_type": "code",
   "execution_count": 32,
   "metadata": {
    "collapsed": false
   },
   "outputs": [
    {
     "name": "stdout",
     "output_type": "stream",
     "text": [
      "Users: [1997 3961 5268 ..., 1644 5947 4421] , shape = (1000209,)\n",
      "Movies: [2940 3248 3357 ..., 1102 1944  911] , shape = (1000209,)\n",
      "Ratings: [3 4 4 ..., 5 5 5] , shape = (1000209,)\n"
     ]
    }
   ],
   "source": [
    "shuffled_ratings = ratings.sample(frac=1., random_state=RNG_SEED)\n",
    "Users = shuffled_ratings['user_emb_id'].values\n",
    "print 'Users:', Users, ', shape =', Users.shape\n",
    "Movies = shuffled_ratings['movie_emb_id'].values\n",
    "print 'Movies:', Movies, ', shape =', Movies.shape\n",
    "Ratings = shuffled_ratings['rating'].values\n",
    "print 'Ratings:', Ratings, ', shape =', Ratings.shape"
   ]
  },
  {
   "cell_type": "markdown",
   "metadata": {},
   "source": [
    "## Define model"
   ]
  },
  {
   "cell_type": "code",
   "execution_count": 33,
   "metadata": {
    "collapsed": false
   },
   "outputs": [],
   "source": [
    "model = DeepModel(max_userid, max_movieid, K_FACTORS, p_dropout=.3)\n",
    "model.compile(loss='mse', optimizer='adagrad')"
   ]
  },
  {
   "cell_type": "markdown",
   "metadata": {},
   "source": [
    "## Train model"
   ]
  },
  {
   "cell_type": "code",
   "execution_count": 34,
   "metadata": {
    "collapsed": false,
    "scrolled": false
   },
   "outputs": [
    {
     "name": "stdout",
     "output_type": "stream",
     "text": [
      "Train on 850177 samples, validate on 150032 samples\n",
      "Epoch 1/50\n",
      "850177/850177 [==============================] - 199s - loss: 0.9188 - val_loss: 0.8192\n",
      "Epoch 2/50\n",
      "850177/850177 [==============================] - 201s - loss: 0.8547 - val_loss: 0.8008\n",
      "Epoch 3/50\n",
      "850177/850177 [==============================] - 201s - loss: 0.8370 - val_loss: 0.7943\n",
      "Epoch 4/50\n",
      "850177/850177 [==============================] - 201s - loss: 0.8266 - val_loss: 0.7884\n",
      "Epoch 5/50\n",
      "850177/850177 [==============================] - 202s - loss: 0.8179 - val_loss: 0.7854\n",
      "Epoch 6/50\n",
      "850177/850177 [==============================] - 202s - loss: 0.8129 - val_loss: 0.7822\n",
      "Epoch 7/50\n",
      "850177/850177 [==============================] - 201s - loss: 0.8077 - val_loss: 0.7805\n",
      "Epoch 8/50\n",
      "850177/850177 [==============================] - 200s - loss: 0.8038 - val_loss: 0.7785\n",
      "Epoch 9/50\n",
      "850177/850177 [==============================] - 199s - loss: 0.7999 - val_loss: 0.7762\n",
      "Epoch 10/50\n",
      "850177/850177 [==============================] - 201s - loss: 0.7954 - val_loss: 0.7736\n",
      "Epoch 11/50\n",
      "850177/850177 [==============================] - 200s - loss: 0.7908 - val_loss: 0.7711\n",
      "Epoch 12/50\n",
      "850177/850177 [==============================] - 200s - loss: 0.7867 - val_loss: 0.7688\n",
      "Epoch 13/50\n",
      "850177/850177 [==============================] - 200s - loss: 0.7834 - val_loss: 0.7674\n",
      "Epoch 14/50\n",
      "850177/850177 [==============================] - 197s - loss: 0.7804 - val_loss: 0.7661\n",
      "Epoch 15/50\n",
      "850177/850177 [==============================] - 198s - loss: 0.7768 - val_loss: 0.7655\n",
      "Epoch 16/50\n",
      "850177/850177 [==============================] - 199s - loss: 0.7747 - val_loss: 0.7657\n",
      "Epoch 17/50\n",
      "850177/850177 [==============================] - 197s - loss: 0.7724 - val_loss: 0.7638\n",
      "Epoch 18/50\n",
      "850177/850177 [==============================] - 198s - loss: 0.7707 - val_loss: 0.7634\n",
      "Epoch 19/50\n",
      "850177/850177 [==============================] - 196s - loss: 0.7693 - val_loss: 0.7628\n",
      "Epoch 20/50\n",
      "850177/850177 [==============================] - 198s - loss: 0.7670 - val_loss: 0.7623\n",
      "Epoch 21/50\n",
      "850177/850177 [==============================] - 196s - loss: 0.7655 - val_loss: 0.7620\n",
      "Epoch 22/50\n",
      "850177/850177 [==============================] - 196s - loss: 0.7632 - val_loss: 0.7616\n",
      "Epoch 23/50\n",
      "850177/850177 [==============================] - 196s - loss: 0.7624 - val_loss: 0.7615\n",
      "Epoch 24/50\n",
      "850177/850177 [==============================] - 196s - loss: 0.7605 - val_loss: 0.7612\n",
      "Epoch 25/50\n",
      "850177/850177 [==============================] - 197s - loss: 0.7591 - val_loss: 0.7610\n",
      "Epoch 26/50\n",
      "850177/850177 [==============================] - 195s - loss: 0.7576 - val_loss: 0.7612\n",
      "Epoch 27/50\n",
      "850177/850177 [==============================] - 195s - loss: 0.7571 - val_loss: 0.7608\n",
      "Epoch 28/50\n",
      "850177/850177 [==============================] - 195s - loss: 0.7549 - val_loss: 0.7607\n",
      "Epoch 29/50\n",
      "850177/850177 [==============================] - 196s - loss: 0.7539 - val_loss: 0.7608\n",
      "Epoch 30/50\n",
      "850177/850177 [==============================] - 195s - loss: 0.7537 - val_loss: 0.7605\n",
      "Epoch 31/50\n",
      "850177/850177 [==============================] - 196s - loss: 0.7515 - val_loss: 0.7606\n",
      "Epoch 32/50\n",
      "850177/850177 [==============================] - 196s - loss: 0.7508 - val_loss: 0.7606\n",
      "Epoch 33/50\n",
      "850177/850177 [==============================] - 197s - loss: 0.7496 - val_loss: 0.7603\n",
      "Epoch 34/50\n",
      "850177/850177 [==============================] - 195s - loss: 0.7487 - val_loss: 0.7602\n",
      "Epoch 35/50\n",
      "850177/850177 [==============================] - 195s - loss: 0.7478 - val_loss: 0.7601\n",
      "Epoch 36/50\n",
      "850177/850177 [==============================] - 196s - loss: 0.7468 - val_loss: 0.7600\n",
      "Epoch 37/50\n",
      "850177/850177 [==============================] - 196s - loss: 0.7452 - val_loss: 0.7599\n",
      "Epoch 38/50\n",
      "850177/850177 [==============================] - 197s - loss: 0.7444 - val_loss: 0.7600\n",
      "Epoch 39/50\n",
      "850177/850177 [==============================] - 196s - loss: 0.7437 - val_loss: 0.7599\n",
      "Epoch 40/50\n",
      "850177/850177 [==============================] - 195s - loss: 0.7432 - val_loss: 0.7601\n",
      "Epoch 41/50\n",
      "850177/850177 [==============================] - 195s - loss: 0.7409 - val_loss: 0.7597\n",
      "Epoch 42/50\n",
      "850177/850177 [==============================] - 196s - loss: 0.7403 - val_loss: 0.7596\n",
      "Epoch 43/50\n",
      "850177/850177 [==============================] - 194s - loss: 0.7399 - val_loss: 0.7596\n",
      "Epoch 44/50\n",
      "850177/850177 [==============================] - 194s - loss: 0.7386 - val_loss: 0.7596\n",
      "Epoch 45/50\n",
      "850177/850177 [==============================] - 194s - loss: 0.7379 - val_loss: 0.7596\n"
     ]
    }
   ],
   "source": [
    "callbacks = [EarlyStopping('val_loss', patience=2), \n",
    "             ModelCheckpoint(MODEL_WEIGHTS_FILE, save_best_only=True)]\n",
    "history = model.fit([Users, Movies], Ratings, epochs=50, validation_split=.15, verbose=1, callbacks=callbacks)"
   ]
  },
  {
   "cell_type": "markdown",
   "metadata": {},
   "source": [
    "## Plot training and validation RMSE"
   ]
  },
  {
   "cell_type": "code",
   "execution_count": 19,
   "metadata": {
    "collapsed": false
   },
   "outputs": [
    {
     "data": {
      "image/png": "[encoded data removed]",
      "text/plain": [
       "<matplotlib.figure.Figure at 0x7fce35f05f10>"
      ]
     },
     "metadata": {},
     "output_type": "display_data"
    }
   ],
   "source": [
    "loss = pd.DataFrame({'epoch': [ i + 1 for i in history.epoch ],\n",
    "                     'training': [ math.sqrt(loss) for loss in history.history['loss'] ],\n",
    "                     'validation': [ math.sqrt(loss) for loss in history.history['val_loss'] ]})\n",
    "ax = loss.ix[:,:].plot(x='epoch', figsize={7,10}, grid=True)\n",
    "ax.set_ylabel(\"root mean squared error\")\n",
    "ax.set_ylim([0.0,3.0]);"
   ]
  },
  {
   "cell_type": "markdown",
   "metadata": {},
   "source": [
    "## Print best validation RMSE"
   ]
  },
  {
   "cell_type": "code",
   "execution_count": 22,
   "metadata": {
    "collapsed": false
   },
   "outputs": [
    {
     "name": "stdout",
     "output_type": "stream",
     "text": [
      "Minimum RMSE at epoch 21 = 0.8753\n"
     ]
    }
   ],
   "source": [
    "min_val_loss, idx = min((val, idx) for (idx, val) in enumerate(history.history['val_loss']))\n",
    "print 'Minimum RMSE at epoch', '{:d}'.format(idx+1), '=', '{:.4f}'.format(math.sqrt(min_val_loss))"
   ]
  },
  {
   "cell_type": "code",
   "execution_count": 23,
   "metadata": {
    "collapsed": true
   },
   "outputs": [],
   "source": [
    "model.save_weights('my_model_weights.h5')"
   ]
  },
  {
   "cell_type": "code",
   "execution_count": null,
   "metadata": {
    "collapsed": true
   },
   "outputs": [],
   "source": []
  },
  {
   "cell_type": "code",
   "execution_count": null,
   "metadata": {
    "collapsed": true
   },
   "outputs": [],
   "source": []
  }
 ],
 "metadata": {
  "kernelspec": {
   "display_name": "Python 2",
   "language": "python",
   "name": "python2"
  },
  "language_info": {
   "codemirror_mode": {
    "name": "ipython",
    "version": 2
   },
   "file_extension": ".py",
   "mimetype": "text/x-python",
   "name": "python",
   "nbconvert_exporter": "python",
   "pygments_lexer": "ipython2",
   "version": "2.7.6"
  }
 },
 "nbformat": 4,
 "nbformat_minor": 0
}
