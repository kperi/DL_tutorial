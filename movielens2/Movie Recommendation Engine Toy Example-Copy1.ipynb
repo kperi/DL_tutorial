{
 "cells": [
  {
   "cell_type": "code",
   "execution_count": 1,
   "metadata": {
    "collapsed": false
   },
   "outputs": [
    {
     "name": "stderr",
     "output_type": "stream",
     "text": [
      "/usr/local/lib/python2.7/dist-packages/matplotlib/font_manager.py:273: UserWarning: Matplotlib is building the font cache using fc-list. This may take a moment.\n",
      "  warnings.warn('Matplotlib is building the font cache using fc-list. This may take a moment.')\n"
     ]
    },
    {
     "name": "stdout",
     "output_type": "stream",
     "text": [
      "Populating the interactive namespace from numpy and matplotlib\n"
     ]
    },
    {
     "name": "stderr",
     "output_type": "stream",
     "text": [
      "Using TensorFlow backend.\n"
     ]
    },
    {
     "name": "stdout",
     "output_type": "stream",
     "text": [
      "Couldn't import dot_parser, loading of dot files will not be possible.\n"
     ]
    }
   ],
   "source": [
    "%pylab inline\n",
    "import pandas\n",
    "import os\n",
    "import zipfile\n",
    "import requests\n",
    "import tqdm\n",
    "from sklearn import dummy, metrics, cross_validation, ensemble\n",
    "\n",
    "import keras.models as kmodels\n",
    "import keras.layers as klayers\n",
    "import keras.backend as K\n",
    "import keras\n",
    "import numpy as np"
   ]
  },
  {
   "cell_type": "code",
   "execution_count": 2,
   "metadata": {
    "collapsed": true
   },
   "outputs": [],
   "source": [
    "users = pandas.read_csv('./ml-1m/users.dat', sep='::', \n",
    "                        engine='python', \n",
    "                        names=['userid', 'gender', 'age', 'occupation', 'zip']).set_index('userid')\n",
    "ratings = pandas.read_csv('./ml-1m/ratings.dat', engine='python', \n",
    "                          sep='::', names=['userid', 'movieid', 'rating', 'timestamp'])\n",
    "movies = pandas.read_csv('./ml-1m/movies.dat', engine='python',\n",
    "                         sep='::', names=['movieid', 'title', 'genre']).set_index('movieid')\n",
    "movies['genre'] = movies.genre.str.split('|')\n",
    "\n",
    "users.age = users.age.astype('category')\n",
    "users.gender = users.gender.astype('category')\n",
    "users.occupation = users.occupation.astype('category')\n",
    "ratings.movieid = ratings.movieid.astype('category')\n",
    "ratings.userid = ratings.userid.astype('category')"
   ]
  },
  {
   "cell_type": "code",
   "execution_count": 3,
   "metadata": {
    "collapsed": true
   },
   "outputs": [],
   "source": [
    "# Count the movies and users\n",
    "n_movies = movies.shape[0]\n",
    "n_users = users.shape[0]\n",
    "\n",
    "# Also, make vectors of all the movie ids and user ids. These are\n",
    "# pandas categorical data, so they range from 1 to n_movies and 1 to n_users, respectively.\n",
    "movieid = ratings.movieid.cat.codes.values\n",
    "userid = ratings.userid.cat.codes.values"
   ]
  },
  {
   "cell_type": "code",
   "execution_count": 4,
   "metadata": {
    "collapsed": false
   },
   "outputs": [],
   "source": [
    "# And finally, set up a y variable with the rating,\n",
    "# as a one-hot encoded matrix.\n",
    "#\n",
    "# note the '- 1' for the rating. That's because ratings\n",
    "# go from 1 to 5, while the matrix columns go from 0 to 4\n",
    "\n",
    "y = np.zeros((ratings.shape[0], 5))\n",
    "y[np.arange(ratings.shape[0]), ratings.rating - 1] = 1"
   ]
  },
  {
   "cell_type": "markdown",
   "metadata": {},
   "source": [
    "## Build the model"
   ]
  },
  {
   "cell_type": "code",
   "execution_count": 5,
   "metadata": {
    "collapsed": false
   },
   "outputs": [
    {
     "name": "stderr",
     "output_type": "stream",
     "text": [
      "/usr/local/lib/python2.7/dist-packages/ipykernel/__main__.py:15: UserWarning: The `merge` function is deprecated and will be removed after 08/2017. Use instead layers from `keras.layers.merge`, e.g. `add`, `concatenate`, etc.\n",
      "/usr/local/lib/python2.7/dist-packages/keras/legacy/layers.py:460: UserWarning: The `Merge` layer is deprecated and will be removed after 08/2017. Use instead layers from `keras.layers.merge`, e.g. `add`, `concatenate`, etc.\n",
      "  name=name)\n"
     ]
    }
   ],
   "source": [
    "# The embedding layer is normally used for sequences (think, sequences of words)\n",
    "# so we need to flatten it out.\n",
    "# The dropout layer is also important in preventing overfitting\n",
    "movie_input = keras.layers.Input(shape=[1])\n",
    "movie_vec = keras.layers.Flatten()(keras.layers.Embedding(n_movies + 1, 32)(movie_input))\n",
    "movie_vec = keras.layers.Dropout(0.2)(movie_vec)\n",
    "\n",
    "# Same thing for the users\n",
    "user_input = keras.layers.Input(shape=[1])\n",
    "user_vec = keras.layers.Flatten()(keras.layers.Embedding(n_users + 1, 32)(user_input))\n",
    "user_vec = keras.layers.Dropout(0.2)(user_vec)\n",
    "\n",
    "# Next, we join them all together and put them\n",
    "# through a pretty standard deep learning architecture\n",
    "input_vecs = keras.layers.merge([movie_vec, user_vec], mode='concat')\n",
    "nn = keras.layers.Dropout(0.2)(keras.layers.Dense(512, activation='relu')(input_vecs))\n",
    "nn = keras.layers.normalization.BatchNormalization( )(nn)\n",
    "nn = keras.layers.Dropout(0.2)(keras.layers.Dense(512, activation='relu')(nn))\n",
    "nn = keras.layers.normalization.BatchNormalization()(nn)\n",
    "nn = keras.layers.Dense(128, activation='relu')(nn)\n",
    "\n",
    "# Finally, we pull out the result!\n",
    "result = keras.layers.Dense(5, activation='softmax')(nn)\n",
    "\n",
    "# And make a model from it that we can actually run.\n",
    "model = kmodels.Model([movie_input, user_input], result)\n",
    "model.compile('Adagrad', 'categorical_crossentropy')\n",
    "\n",
    "# If we wanted to inspect part of the model, for example, to look\n",
    "# at the movie vectors, here's how to do it. You don't need to \n",
    "# compile these models unless you're going to train them.\n",
    "#final_layer = kmodels.Model([movie_input, user_input], nn)\n",
    "#movie_vec = kmodels.Model(movie_input, movie_vec)"
   ]
  },
  {
   "cell_type": "code",
   "execution_count": 6,
   "metadata": {
    "collapsed": false
   },
   "outputs": [],
   "source": [
    "# Split the data into train and test sets...\n",
    "a_movieid, b_movieid, a_userid, b_userid, a_y, b_y = cross_validation.train_test_split(movieid, userid, y, test_size = .2)"
   ]
  },
  {
   "cell_type": "code",
   "execution_count": 7,
   "metadata": {
    "collapsed": false
   },
   "outputs": [
    {
     "data": {
      "text/plain": [
       "((800167,), (200042,), (800167,), (800167, 5), (200042, 5))"
      ]
     },
     "execution_count": 7,
     "metadata": {},
     "output_type": "execute_result"
    }
   ],
   "source": [
    "a_movieid.shape, b_movieid.shape, a_userid.shape, a_y.shape, b_y.shape\n",
    "# And of _course_ we need to make sure we're improving, so we find the MAE before\n",
    "# training at all.\n",
    "#metrics.mean_absolute_error(np.argmax(b_y, 1)+1, np.argmax(model.predict([b_movieid, b_userid]), 1)+1)"
   ]
  },
  {
   "cell_type": "markdown",
   "metadata": {},
   "source": [
    "## Train the model"
   ]
  },
  {
   "cell_type": "code",
   "execution_count": 8,
   "metadata": {
    "collapsed": false
   },
   "outputs": [
    {
     "name": "stdout",
     "output_type": "stream",
     "text": [
      "Train on 800167 samples, validate on 200042 samples\n",
      "Epoch 1/20\n",
      "800167/800167 [==============================] - 248s - loss: 1.3028 - val_loss: 1.2382\n",
      "Epoch 2/20\n",
      "800167/800167 [==============================] - 242s - loss: 1.2317 - val_loss: 1.2248\n",
      "Epoch 3/20\n",
      "800167/800167 [==============================] - 241s - loss: 1.2145 - val_loss: 1.2130\n",
      "Epoch 4/20\n",
      "800167/800167 [==============================] - 243s - loss: 1.2037 - val_loss: 1.2076\n",
      "Epoch 5/20\n",
      "800167/800167 [==============================] - 254s - loss: 1.1959 - val_loss: 1.2048\n",
      "Epoch 6/20\n",
      "800167/800167 [==============================] - 239s - loss: 1.1906 - val_loss: 1.2027\n",
      "Epoch 7/20\n",
      "800167/800167 [==============================] - 243s - loss: 1.1858 - val_loss: 1.2021\n",
      "Epoch 8/20\n",
      "800167/800167 [==============================] - 241s - loss: 1.1819 - val_loss: 1.1993\n",
      "Epoch 9/20\n",
      "800167/800167 [==============================] - 238s - loss: 1.1776 - val_loss: 1.1969\n",
      "Epoch 10/20\n",
      "800167/800167 [==============================] - 238s - loss: 1.1744 - val_loss: 1.1975\n",
      "Epoch 11/20\n",
      "800167/800167 [==============================] - 238s - loss: 1.1708 - val_loss: 1.1998\n",
      "Epoch 12/20\n",
      "800167/800167 [==============================] - 240s - loss: 1.1674 - val_loss: 1.1964\n",
      "Epoch 13/20\n",
      "800167/800167 [==============================] - 243s - loss: 1.1645 - val_loss: 1.1946\n",
      "Epoch 14/20\n",
      "800167/800167 [==============================] - 235s - loss: 1.1617 - val_loss: 1.1933\n",
      "Epoch 15/20\n",
      "800167/800167 [==============================] - 235s - loss: 1.1587 - val_loss: 1.1918\n",
      "Epoch 16/20\n",
      "800167/800167 [==============================] - 237s - loss: 1.1567 - val_loss: 1.1920\n",
      "Epoch 17/20\n",
      "800167/800167 [==============================] - 239s - loss: 1.1536 - val_loss: 1.1910\n",
      "Epoch 18/20\n",
      "800167/800167 [==============================] - 240s - loss: 1.1508 - val_loss: 1.1900\n",
      "Epoch 19/20\n",
      "800167/800167 [==============================] - 236s - loss: 1.1482 - val_loss: 1.1917\n",
      "Epoch 20/20\n",
      "800167/800167 [==============================] - 234s - loss: 1.1466 - val_loss: 1.1921\n"
     ]
    }
   ],
   "source": [
    "from keras.callbacks import Callback, EarlyStopping, ModelCheckpoint\n",
    "MODEL_WEIGHTS_FILE = \"REC_V2_1.h5\"\n",
    "try:\n",
    "    \n",
    "    callbacks = [EarlyStopping('val_loss', patience=2), \n",
    "             ModelCheckpoint(MODEL_WEIGHTS_FILE, save_best_only=True)]\n",
    "    \n",
    "    history = model.fit([a_movieid, a_userid], a_y, \n",
    "                         epochs=20, \n",
    "                         batch_size = 64,\n",
    "                         validation_data=([b_movieid, b_userid], b_y), \n",
    "                         verbose=1, \n",
    "                         callbacks = callbacks)\n",
    "except KeyboardInterrupt:\n",
    "    pass"
   ]
  },
  {
   "cell_type": "markdown",
   "metadata": {},
   "source": [
    "## Plot loss and validation loss"
   ]
  },
  {
   "cell_type": "code",
   "execution_count": 15,
   "metadata": {
    "collapsed": false
   },
   "outputs": [
    {
     "data": {
      "text/plain": [
       "[<matplotlib.lines.Line2D at 0x7fb77c8afd10>]"
      ]
     },
     "execution_count": 15,
     "metadata": {},
     "output_type": "execute_result"
    },
    {
     "data": {
      "image/png": "[encoded data removed]",
      "text/plain": [
       "<matplotlib.figure.Figure at 0x7fb77c8afc50>"
      ]
     },
     "metadata": {},
     "output_type": "display_data"
    }
   ],
   "source": [
    "plot(history.history['loss'])\n",
    "plot(history.history['val_loss'])"
   ]
  },
  {
   "cell_type": "code",
   "execution_count": null,
   "metadata": {
    "collapsed": false
   },
   "outputs": [],
   "source": [
    "metrics.mean_absolute_error(\n",
    "    np.argmax(b_y, 1)+1, \n",
    "    np.argmax( model.predict([b_movieid, b_userid]), 1)+1)"
   ]
  },
  {
   "cell_type": "code",
   "execution_count": 10,
   "metadata": {
    "collapsed": false
   },
   "outputs": [],
   "source": [
    "ret = model.predict([b_movieid, b_userid])"
   ]
  },
  {
   "cell_type": "code",
   "execution_count": 12,
   "metadata": {
    "collapsed": false
   },
   "outputs": [],
   "source": [
    "movies.reset_index( inplace=True)"
   ]
  },
  {
   "cell_type": "markdown",
   "metadata": {},
   "source": [
    "## Generate recommendations"
   ]
  },
  {
   "cell_type": "code",
   "execution_count": 13,
   "metadata": {
    "collapsed": false
   },
   "outputs": [
    {
     "data": {
      "text/html": [
       "<div>\n",
       "<table border=\"1\" class=\"dataframe\">\n",
       "  <thead>\n",
       "    <tr style=\"text-align: right;\">\n",
       "      <th></th>\n",
       "      <th>userid</th>\n",
       "      <th>movieid</th>\n",
       "      <th>rating</th>\n",
       "      <th>timestamp</th>\n",
       "      <th>title</th>\n",
       "      <th>genre</th>\n",
       "    </tr>\n",
       "  </thead>\n",
       "  <tbody>\n",
       "    <tr>\n",
       "      <th>0</th>\n",
       "      <td>6</td>\n",
       "      <td>2406</td>\n",
       "      <td>5</td>\n",
       "      <td>978236670</td>\n",
       "      <td>Romancing the Stone (1984)</td>\n",
       "      <td>[Action, Adventure, Comedy, Romance]</td>\n",
       "    </tr>\n",
       "    <tr>\n",
       "      <th>12</th>\n",
       "      <td>6</td>\n",
       "      <td>48</td>\n",
       "      <td>5</td>\n",
       "      <td>978237570</td>\n",
       "      <td>Pocahontas (1995)</td>\n",
       "      <td>[Animation, Children's, Musical, Romance]</td>\n",
       "    </tr>\n",
       "    <tr>\n",
       "      <th>36</th>\n",
       "      <td>6</td>\n",
       "      <td>3536</td>\n",
       "      <td>5</td>\n",
       "      <td>978238230</td>\n",
       "      <td>Keeping the Faith (2000)</td>\n",
       "      <td>[Comedy, Romance]</td>\n",
       "    </tr>\n",
       "    <tr>\n",
       "      <th>38</th>\n",
       "      <td>6</td>\n",
       "      <td>3753</td>\n",
       "      <td>5</td>\n",
       "      <td>978238195</td>\n",
       "      <td>Patriot, The (2000)</td>\n",
       "      <td>[Action, Drama, War]</td>\n",
       "    </tr>\n",
       "    <tr>\n",
       "      <th>46</th>\n",
       "      <td>6</td>\n",
       "      <td>1947</td>\n",
       "      <td>5</td>\n",
       "      <td>978237767</td>\n",
       "      <td>West Side Story (1961)</td>\n",
       "      <td>[Musical, Romance]</td>\n",
       "    </tr>\n",
       "    <tr>\n",
       "      <th>47</th>\n",
       "      <td>6</td>\n",
       "      <td>2966</td>\n",
       "      <td>5</td>\n",
       "      <td>978237273</td>\n",
       "      <td>Straight Story, The (1999)</td>\n",
       "      <td>[Drama]</td>\n",
       "    </tr>\n",
       "    <tr>\n",
       "      <th>23</th>\n",
       "      <td>6</td>\n",
       "      <td>597</td>\n",
       "      <td>5</td>\n",
       "      <td>978239019</td>\n",
       "      <td>Pretty Woman (1990)</td>\n",
       "      <td>[Comedy, Romance]</td>\n",
       "    </tr>\n",
       "    <tr>\n",
       "      <th>52</th>\n",
       "      <td>6</td>\n",
       "      <td>1088</td>\n",
       "      <td>5</td>\n",
       "      <td>978236670</td>\n",
       "      <td>Dirty Dancing (1987)</td>\n",
       "      <td>[Musical, Romance]</td>\n",
       "    </tr>\n",
       "    <tr>\n",
       "      <th>54</th>\n",
       "      <td>6</td>\n",
       "      <td>199</td>\n",
       "      <td>5</td>\n",
       "      <td>978237570</td>\n",
       "      <td>Umbrellas of Cherbourg, The (Parapluies de Che...</td>\n",
       "      <td>[Drama, Musical]</td>\n",
       "    </tr>\n",
       "    <tr>\n",
       "      <th>33</th>\n",
       "      <td>6</td>\n",
       "      <td>3604</td>\n",
       "      <td>5</td>\n",
       "      <td>978237767</td>\n",
       "      <td>Gypsy (1962)</td>\n",
       "      <td>[Musical]</td>\n",
       "    </tr>\n",
       "    <tr>\n",
       "      <th>56</th>\n",
       "      <td>6</td>\n",
       "      <td>3408</td>\n",
       "      <td>5</td>\n",
       "      <td>978238230</td>\n",
       "      <td>Erin Brockovich (2000)</td>\n",
       "      <td>[Drama]</td>\n",
       "    </tr>\n",
       "    <tr>\n",
       "      <th>13</th>\n",
       "      <td>6</td>\n",
       "      <td>3074</td>\n",
       "      <td>5</td>\n",
       "      <td>978238036</td>\n",
       "      <td>Jeremiah Johnson (1972)</td>\n",
       "      <td>[Western]</td>\n",
       "    </tr>\n",
       "    <tr>\n",
       "      <th>55</th>\n",
       "      <td>6</td>\n",
       "      <td>914</td>\n",
       "      <td>5</td>\n",
       "      <td>978237767</td>\n",
       "      <td>My Fair Lady (1964)</td>\n",
       "      <td>[Musical, Romance]</td>\n",
       "    </tr>\n",
       "    <tr>\n",
       "      <th>64</th>\n",
       "      <td>6</td>\n",
       "      <td>1380</td>\n",
       "      <td>5</td>\n",
       "      <td>978237691</td>\n",
       "      <td>Grease (1978)</td>\n",
       "      <td>[Comedy, Musical, Romance]</td>\n",
       "    </tr>\n",
       "    <tr>\n",
       "      <th>8</th>\n",
       "      <td>6</td>\n",
       "      <td>3501</td>\n",
       "      <td>5</td>\n",
       "      <td>978236670</td>\n",
       "      <td>Murphy's Romance (1985)</td>\n",
       "      <td>[Comedy, Romance]</td>\n",
       "    </tr>\n",
       "    <tr>\n",
       "      <th>4</th>\n",
       "      <td>6</td>\n",
       "      <td>1688</td>\n",
       "      <td>5</td>\n",
       "      <td>978237570</td>\n",
       "      <td>Anastasia (1997)</td>\n",
       "      <td>[Animation, Children's, Musical]</td>\n",
       "    </tr>\n",
       "    <tr>\n",
       "      <th>5</th>\n",
       "      <td>6</td>\n",
       "      <td>1035</td>\n",
       "      <td>5</td>\n",
       "      <td>978237767</td>\n",
       "      <td>Sound of Music, The (1965)</td>\n",
       "      <td>[Musical]</td>\n",
       "    </tr>\n",
       "    <tr>\n",
       "      <th>60</th>\n",
       "      <td>6</td>\n",
       "      <td>2396</td>\n",
       "      <td>4</td>\n",
       "      <td>978236809</td>\n",
       "      <td>Shakespeare in Love (1998)</td>\n",
       "      <td>[Comedy, Romance]</td>\n",
       "    </tr>\n",
       "    <tr>\n",
       "      <th>48</th>\n",
       "      <td>6</td>\n",
       "      <td>266</td>\n",
       "      <td>4</td>\n",
       "      <td>978237909</td>\n",
       "      <td>Legends of the Fall (1994)</td>\n",
       "      <td>[Drama, Romance, War, Western]</td>\n",
       "    </tr>\n",
       "    <tr>\n",
       "      <th>1</th>\n",
       "      <td>6</td>\n",
       "      <td>1101</td>\n",
       "      <td>4</td>\n",
       "      <td>978236670</td>\n",
       "      <td>Top Gun (1986)</td>\n",
       "      <td>[Action, Romance]</td>\n",
       "    </tr>\n",
       "  </tbody>\n",
       "</table>\n",
       "</div>"
      ],
      "text/plain": [
       "    userid  movieid  rating  timestamp  \\\n",
       "0        6     2406       5  978236670   \n",
       "12       6       48       5  978237570   \n",
       "36       6     3536       5  978238230   \n",
       "38       6     3753       5  978238195   \n",
       "46       6     1947       5  978237767   \n",
       "47       6     2966       5  978237273   \n",
       "23       6      597       5  978239019   \n",
       "52       6     1088       5  978236670   \n",
       "54       6      199       5  978237570   \n",
       "33       6     3604       5  978237767   \n",
       "56       6     3408       5  978238230   \n",
       "13       6     3074       5  978238036   \n",
       "55       6      914       5  978237767   \n",
       "64       6     1380       5  978237691   \n",
       "8        6     3501       5  978236670   \n",
       "4        6     1688       5  978237570   \n",
       "5        6     1035       5  978237767   \n",
       "60       6     2396       4  978236809   \n",
       "48       6      266       4  978237909   \n",
       "1        6     1101       4  978236670   \n",
       "\n",
       "                                                title  \\\n",
       "0                          Romancing the Stone (1984)   \n",
       "12                                  Pocahontas (1995)   \n",
       "36                           Keeping the Faith (2000)   \n",
       "38                                Patriot, The (2000)   \n",
       "46                             West Side Story (1961)   \n",
       "47                         Straight Story, The (1999)   \n",
       "23                                Pretty Woman (1990)   \n",
       "52                               Dirty Dancing (1987)   \n",
       "54  Umbrellas of Cherbourg, The (Parapluies de Che...   \n",
       "33                                       Gypsy (1962)   \n",
       "56                             Erin Brockovich (2000)   \n",
       "13                            Jeremiah Johnson (1972)   \n",
       "55                                My Fair Lady (1964)   \n",
       "64                                      Grease (1978)   \n",
       "8                             Murphy's Romance (1985)   \n",
       "4                                    Anastasia (1997)   \n",
       "5                          Sound of Music, The (1965)   \n",
       "60                         Shakespeare in Love (1998)   \n",
       "48                         Legends of the Fall (1994)   \n",
       "1                                      Top Gun (1986)   \n",
       "\n",
       "                                        genre  \n",
       "0        [Action, Adventure, Comedy, Romance]  \n",
       "12  [Animation, Children's, Musical, Romance]  \n",
       "36                          [Comedy, Romance]  \n",
       "38                       [Action, Drama, War]  \n",
       "46                         [Musical, Romance]  \n",
       "47                                    [Drama]  \n",
       "23                          [Comedy, Romance]  \n",
       "52                         [Musical, Romance]  \n",
       "54                           [Drama, Musical]  \n",
       "33                                  [Musical]  \n",
       "56                                    [Drama]  \n",
       "13                                  [Western]  \n",
       "55                         [Musical, Romance]  \n",
       "64                 [Comedy, Musical, Romance]  \n",
       "8                           [Comedy, Romance]  \n",
       "4            [Animation, Children's, Musical]  \n",
       "5                                   [Musical]  \n",
       "60                          [Comedy, Romance]  \n",
       "48             [Drama, Romance, War, Western]  \n",
       "1                           [Action, Romance]  "
      ]
     },
     "execution_count": 13,
     "metadata": {},
     "output_type": "execute_result"
    }
   ],
   "source": [
    "USER = 6\n",
    "ur = ratings[ ratings.userid ==  USER ].merge(movies, \n",
    "                                                on='movieid', \n",
    "                                                how='inner', \n",
    "                                                suffixes=['_u', '_m'])\n",
    "                                                \n",
    "ur.sort_values(by='rating', ascending=False).head(20)                                                    "
   ]
  },
  {
   "cell_type": "code",
   "execution_count": 14,
   "metadata": {
    "collapsed": false
   },
   "outputs": [
    {
     "data": {
      "text/html": [
       "<div>\n",
       "<table border=\"1\" class=\"dataframe\">\n",
       "  <thead>\n",
       "    <tr style=\"text-align: right;\">\n",
       "      <th></th>\n",
       "      <th>movieid</th>\n",
       "      <th>title</th>\n",
       "      <th>genre</th>\n",
       "    </tr>\n",
       "  </thead>\n",
       "  <tbody>\n",
       "    <tr>\n",
       "      <th>48</th>\n",
       "      <td>49</td>\n",
       "      <td>When Night Is Falling (1995)</td>\n",
       "      <td>[Drama, Romance]</td>\n",
       "    </tr>\n",
       "    <tr>\n",
       "      <th>104</th>\n",
       "      <td>106</td>\n",
       "      <td>Nobody Loves Me (Keiner liebt mich) (1994)</td>\n",
       "      <td>[Comedy, Drama]</td>\n",
       "    </tr>\n",
       "    <tr>\n",
       "      <th>250</th>\n",
       "      <td>253</td>\n",
       "      <td>Interview with the Vampire (1994)</td>\n",
       "      <td>[Drama, Horror]</td>\n",
       "    </tr>\n",
       "    <tr>\n",
       "      <th>284</th>\n",
       "      <td>287</td>\n",
       "      <td>Nina Takes a Lover (1994)</td>\n",
       "      <td>[Comedy, Romance]</td>\n",
       "    </tr>\n",
       "    <tr>\n",
       "      <th>306</th>\n",
       "      <td>309</td>\n",
       "      <td>Red Firecracker, Green Firecracker (1994)</td>\n",
       "      <td>[Drama]</td>\n",
       "    </tr>\n",
       "    <tr>\n",
       "      <th>386</th>\n",
       "      <td>390</td>\n",
       "      <td>Faster Pussycat! Kill! Kill! (1965)</td>\n",
       "      <td>[Action, Comedy, Drama]</td>\n",
       "    </tr>\n",
       "    <tr>\n",
       "      <th>509</th>\n",
       "      <td>513</td>\n",
       "      <td>Radioland Murders (1994)</td>\n",
       "      <td>[Comedy, Mystery, Romance]</td>\n",
       "    </tr>\n",
       "    <tr>\n",
       "      <th>575</th>\n",
       "      <td>579</td>\n",
       "      <td>Scorta, La (1993)</td>\n",
       "      <td>[Thriller]</td>\n",
       "    </tr>\n",
       "    <tr>\n",
       "      <th>641</th>\n",
       "      <td>647</td>\n",
       "      <td>Courage Under Fire (1996)</td>\n",
       "      <td>[Drama, War]</td>\n",
       "    </tr>\n",
       "    <tr>\n",
       "      <th>699</th>\n",
       "      <td>708</td>\n",
       "      <td>Truth About Cats &amp; Dogs, The (1996)</td>\n",
       "      <td>[Comedy, Romance]</td>\n",
       "    </tr>\n",
       "    <tr>\n",
       "      <th>792</th>\n",
       "      <td>802</td>\n",
       "      <td>Phenomenon (1996)</td>\n",
       "      <td>[Drama, Romance]</td>\n",
       "    </tr>\n",
       "    <tr>\n",
       "      <th>832</th>\n",
       "      <td>843</td>\n",
       "      <td>Lotto Land (1995)</td>\n",
       "      <td>[Drama]</td>\n",
       "    </tr>\n",
       "    <tr>\n",
       "      <th>833</th>\n",
       "      <td>844</td>\n",
       "      <td>Story of Xinghua, The (1993)</td>\n",
       "      <td>[Drama]</td>\n",
       "    </tr>\n",
       "    <tr>\n",
       "      <th>836</th>\n",
       "      <td>847</td>\n",
       "      <td>Big Squeeze, The (1996)</td>\n",
       "      <td>[Comedy, Drama]</td>\n",
       "    </tr>\n",
       "    <tr>\n",
       "      <th>838</th>\n",
       "      <td>849</td>\n",
       "      <td>Escape from L.A. (1996)</td>\n",
       "      <td>[Action, Adventure, Sci-Fi, Thriller]</td>\n",
       "    </tr>\n",
       "    <tr>\n",
       "      <th>840</th>\n",
       "      <td>851</td>\n",
       "      <td>Basquiat (1996)</td>\n",
       "      <td>[Drama]</td>\n",
       "    </tr>\n",
       "    <tr>\n",
       "      <th>841</th>\n",
       "      <td>852</td>\n",
       "      <td>Tin Cup (1996)</td>\n",
       "      <td>[Comedy, Romance]</td>\n",
       "    </tr>\n",
       "    <tr>\n",
       "      <th>847</th>\n",
       "      <td>858</td>\n",
       "      <td>Godfather, The (1972)</td>\n",
       "      <td>[Action, Crime, Drama]</td>\n",
       "    </tr>\n",
       "    <tr>\n",
       "      <th>850</th>\n",
       "      <td>861</td>\n",
       "      <td>Supercop (1992)</td>\n",
       "      <td>[Action, Thriller]</td>\n",
       "    </tr>\n",
       "    <tr>\n",
       "      <th>851</th>\n",
       "      <td>862</td>\n",
       "      <td>Manny &amp; Lo (1996)</td>\n",
       "      <td>[Drama]</td>\n",
       "    </tr>\n",
       "  </tbody>\n",
       "</table>\n",
       "</div>"
      ],
      "text/plain": [
       "     movieid                                       title  \\\n",
       "48        49                When Night Is Falling (1995)   \n",
       "104      106  Nobody Loves Me (Keiner liebt mich) (1994)   \n",
       "250      253           Interview with the Vampire (1994)   \n",
       "284      287                   Nina Takes a Lover (1994)   \n",
       "306      309   Red Firecracker, Green Firecracker (1994)   \n",
       "386      390         Faster Pussycat! Kill! Kill! (1965)   \n",
       "509      513                    Radioland Murders (1994)   \n",
       "575      579                           Scorta, La (1993)   \n",
       "641      647                   Courage Under Fire (1996)   \n",
       "699      708         Truth About Cats & Dogs, The (1996)   \n",
       "792      802                           Phenomenon (1996)   \n",
       "832      843                           Lotto Land (1995)   \n",
       "833      844                Story of Xinghua, The (1993)   \n",
       "836      847                     Big Squeeze, The (1996)   \n",
       "838      849                     Escape from L.A. (1996)   \n",
       "840      851                             Basquiat (1996)   \n",
       "841      852                              Tin Cup (1996)   \n",
       "847      858                       Godfather, The (1972)   \n",
       "850      861                             Supercop (1992)   \n",
       "851      862                           Manny & Lo (1996)   \n",
       "\n",
       "                                     genre  \n",
       "48                        [Drama, Romance]  \n",
       "104                        [Comedy, Drama]  \n",
       "250                        [Drama, Horror]  \n",
       "284                      [Comedy, Romance]  \n",
       "306                                [Drama]  \n",
       "386                [Action, Comedy, Drama]  \n",
       "509             [Comedy, Mystery, Romance]  \n",
       "575                             [Thriller]  \n",
       "641                           [Drama, War]  \n",
       "699                      [Comedy, Romance]  \n",
       "792                       [Drama, Romance]  \n",
       "832                                [Drama]  \n",
       "833                                [Drama]  \n",
       "836                        [Comedy, Drama]  \n",
       "838  [Action, Adventure, Sci-Fi, Thriller]  \n",
       "840                                [Drama]  \n",
       "841                      [Comedy, Romance]  \n",
       "847                 [Action, Crime, Drama]  \n",
       "850                     [Action, Thriller]  \n",
       "851                                [Drama]  "
      ]
     },
     "execution_count": 14,
     "metadata": {},
     "output_type": "execute_result"
    }
   ],
   "source": [
    "nr = np.asarray(ratings[ ~ratings.movieid.isin( ur.movieid)]['movieid'].unique()).astype(np.int16)\n",
    "test_user = np.ones( nr.shape, dtype=np.int)*USER\n",
    "ret = model.predict( [nr, test_user])\n",
    "#best = np.argmax( ret, axis = 1)\n",
    "#best = np.where( best >= 4)[0]\n",
    "best = np.where( ret>.82)[0]\n",
    "movies[ movies.movieid.isin( nr[best] )].head(n=20)"
   ]
  }
 ],
 "metadata": {
  "kernelspec": {
   "display_name": "Python 2",
   "language": "python",
   "name": "python2"
  },
  "language_info": {
   "codemirror_mode": {
    "name": "ipython",
    "version": 2
   },
   "file_extension": ".py",
   "mimetype": "text/x-python",
   "name": "python",
   "nbconvert_exporter": "python",
   "pygments_lexer": "ipython2",
   "version": "2.7.6"
  }
 },
 "nbformat": 4,
 "nbformat_minor": 1
}
