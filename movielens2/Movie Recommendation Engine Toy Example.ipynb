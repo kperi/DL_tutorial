{
 "cells": [
  {
   "cell_type": "code",
   "execution_count": 36,
   "metadata": {
    "collapsed": false
   },
   "outputs": [
    {
     "name": "stderr",
     "output_type": "stream",
     "text": [
      "/usr/local/lib/python2.7/dist-packages/matplotlib/font_manager.py:273: UserWarning: Matplotlib is building the font cache using fc-list. This may take a moment.\n",
      "  warnings.warn('Matplotlib is building the font cache using fc-list. This may take a moment.')\n"
     ]
    },
    {
     "name": "stdout",
     "output_type": "stream",
     "text": [
      "Populating the interactive namespace from numpy and matplotlib\n"
     ]
    }
   ],
   "source": [
    "%pylab inline\n",
    "import pandas\n",
    "import os\n",
    "import zipfile\n",
    "import requests\n",
    "import tqdm\n",
    "from sklearn import dummy, metrics, cross_validation, ensemble\n",
    "\n",
    "import keras.models as kmodels\n",
    "import keras.layers as klayers\n",
    "import keras.backend as K\n",
    "import keras\n",
    "import numpy as np"
   ]
  },
  {
   "cell_type": "code",
   "execution_count": 26,
   "metadata": {
    "collapsed": true
   },
   "outputs": [],
   "source": [
    "\n",
    "# Read in the dataset, and do a little preprocessing,\n",
    "# mostly to set the column datatypes.\n",
    "users = pandas.read_csv('./ml-1m/users.dat', sep='::', \n",
    "                        engine='python', \n",
    "                        names=['userid', 'gender', 'age', 'occupation', 'zip']).set_index('userid')\n",
    "ratings = pandas.read_csv('./ml-1m/ratings.dat', engine='python', \n",
    "                          sep='::', names=['userid', 'movieid', 'rating', 'timestamp'])\n",
    "movies = pandas.read_csv('./ml-1m/movies.dat', engine='python',\n",
    "                         sep='::', names=['movieid', 'title', 'genre']).set_index('movieid')\n",
    "movies['genre'] = movies.genre.str.split('|')\n",
    "\n",
    "users.age = users.age.astype('category')\n",
    "users.gender = users.gender.astype('category')\n",
    "users.occupation = users.occupation.astype('category')\n",
    "ratings.movieid = ratings.movieid.astype('category')\n",
    "ratings.userid = ratings.userid.astype('category')"
   ]
  },
  {
   "cell_type": "code",
   "execution_count": 27,
   "metadata": {
    "collapsed": true
   },
   "outputs": [],
   "source": [
    "\n",
    "# Count the movies and users\n",
    "n_movies = movies.shape[0]\n",
    "n_users = users.shape[0]\n",
    "\n",
    "# Also, make vectors of all the movie ids and user ids. These are\n",
    "# pandas categorical data, so they range from 1 to n_movies and 1 to n_users, respectively.\n",
    "movieid = ratings.movieid.cat.codes.values\n",
    "userid = ratings.userid.cat.codes.values"
   ]
  },
  {
   "cell_type": "code",
   "execution_count": 28,
   "metadata": {
    "collapsed": false
   },
   "outputs": [],
   "source": [
    "\n",
    "# And finally, set up a y variable with the rating,\n",
    "# as a one-hot encoded matrix.\n",
    "#\n",
    "# note the '- 1' for the rating. That's because ratings\n",
    "# go from 1 to 5, while the matrix columns go from 0 to 4\n",
    "\n",
    "y = np.zeros((ratings.shape[0], 5))\n",
    "y[np.arange(ratings.shape[0]), ratings.rating - 1] = 1"
   ]
  },
  {
   "cell_type": "code",
   "execution_count": 29,
   "metadata": {
    "collapsed": false
   },
   "outputs": [
    {
     "ename": "ValueError",
     "evalue": "Unknown strategy type.",
     "output_type": "error",
     "traceback": [
      "\u001b[0;31m---------------------------------------------------------------------------\u001b[0m",
      "\u001b[0;31mValueError\u001b[0m                                Traceback (most recent call last)",
      "\u001b[0;32m<ipython-input-29-35e41eb1bb33>\u001b[0m in \u001b[0;36m<module>\u001b[0;34m()\u001b[0m\n\u001b[1;32m      1\u001b[0m \u001b[0;31m# Dummy classifier! Just see how well stupid can do.\u001b[0m\u001b[0;34m\u001b[0m\u001b[0;34m\u001b[0m\u001b[0m\n\u001b[1;32m      2\u001b[0m \u001b[0mpred\u001b[0m \u001b[0;34m=\u001b[0m \u001b[0mdummy\u001b[0m\u001b[0;34m.\u001b[0m\u001b[0mDummyClassifier\u001b[0m\u001b[0;34m(\u001b[0m\u001b[0mstrategy\u001b[0m\u001b[0;34m=\u001b[0m\u001b[0;34m'prior'\u001b[0m\u001b[0;34m)\u001b[0m\u001b[0;34m\u001b[0m\u001b[0m\n\u001b[0;32m----> 3\u001b[0;31m \u001b[0mpred\u001b[0m\u001b[0;34m.\u001b[0m\u001b[0mfit\u001b[0m\u001b[0;34m(\u001b[0m\u001b[0mratings\u001b[0m\u001b[0;34m[\u001b[0m\u001b[0;34m[\u001b[0m\u001b[0;34m'userid'\u001b[0m\u001b[0;34m,\u001b[0m \u001b[0;34m'movieid'\u001b[0m\u001b[0;34m]\u001b[0m\u001b[0;34m]\u001b[0m\u001b[0;34m,\u001b[0m \u001b[0mratings\u001b[0m\u001b[0;34m.\u001b[0m\u001b[0mrating\u001b[0m\u001b[0;34m)\u001b[0m\u001b[0;34m\u001b[0m\u001b[0m\n\u001b[0m\u001b[1;32m      4\u001b[0m \u001b[0;34m\u001b[0m\u001b[0m\n\u001b[1;32m      5\u001b[0m \u001b[0;32mprint\u001b[0m\u001b[0;34m(\u001b[0m\u001b[0mmetrics\u001b[0m\u001b[0;34m.\u001b[0m\u001b[0mmean_absolute_error\u001b[0m\u001b[0;34m(\u001b[0m\u001b[0mratings\u001b[0m\u001b[0;34m.\u001b[0m\u001b[0mrating\u001b[0m\u001b[0;34m,\u001b[0m \u001b[0mpred\u001b[0m\u001b[0;34m.\u001b[0m\u001b[0mpredict\u001b[0m\u001b[0;34m(\u001b[0m\u001b[0mratings\u001b[0m\u001b[0;34m[\u001b[0m\u001b[0;34m[\u001b[0m\u001b[0;34m'userid'\u001b[0m\u001b[0;34m,\u001b[0m \u001b[0;34m'movieid'\u001b[0m\u001b[0;34m]\u001b[0m\u001b[0;34m]\u001b[0m\u001b[0;34m)\u001b[0m\u001b[0;34m)\u001b[0m\u001b[0;34m)\u001b[0m\u001b[0;34m\u001b[0m\u001b[0m\n",
      "\u001b[0;32m/home/kostas/.local/lib/python2.7/site-packages/sklearn/dummy.pyc\u001b[0m in \u001b[0;36mfit\u001b[0;34m(self, X, y)\u001b[0m\n\u001b[1;32m     82\u001b[0m         if self.strategy not in (\"most_frequent\", \"stratified\", \"uniform\",\n\u001b[1;32m     83\u001b[0m                                  \"constant\"):\n\u001b[0;32m---> 84\u001b[0;31m             \u001b[0;32mraise\u001b[0m \u001b[0mValueError\u001b[0m\u001b[0;34m(\u001b[0m\u001b[0;34m\"Unknown strategy type.\"\u001b[0m\u001b[0;34m)\u001b[0m\u001b[0;34m\u001b[0m\u001b[0m\n\u001b[0m\u001b[1;32m     85\u001b[0m \u001b[0;34m\u001b[0m\u001b[0m\n\u001b[1;32m     86\u001b[0m         \u001b[0my\u001b[0m \u001b[0;34m=\u001b[0m \u001b[0mnp\u001b[0m\u001b[0;34m.\u001b[0m\u001b[0matleast_1d\u001b[0m\u001b[0;34m(\u001b[0m\u001b[0my\u001b[0m\u001b[0;34m)\u001b[0m\u001b[0;34m\u001b[0m\u001b[0m\n",
      "\u001b[0;31mValueError\u001b[0m: Unknown strategy type."
     ]
    }
   ],
   "source": [
    "# Dummy classifier! Just see how well stupid can do.\n",
    "pred = dummy.DummyClassifier(strategy='prior')\n",
    "pred.fit(ratings[['userid', 'movieid']], ratings.rating)\n",
    "\n",
    "print(metrics.mean_absolute_error(ratings.rating, pred.predict(ratings[['userid', 'movieid']])))\n"
   ]
  },
  {
   "cell_type": "code",
   "execution_count": 266,
   "metadata": {
    "collapsed": false
   },
   "outputs": [
    {
     "name": "stderr",
     "output_type": "stream",
     "text": [
      "/usr/local/lib/python2.7/dist-packages/ipykernel/__main__.py:19: UserWarning: The `merge` function is deprecated and will be removed after 08/2017. Use instead layers from `keras.layers.merge`, e.g. `add`, `concatenate`, etc.\n"
     ]
    }
   ],
   "source": [
    "\n",
    "# Now, the deep learning classifier\n",
    "\n",
    "# First, we take the movie and vectorize it.\n",
    "# The embedding layer is normally used for sequences (think, sequences of words)\n",
    "# so we need to flatten it out.\n",
    "# The dropout layer is also important in preventing overfitting\n",
    "movie_input = keras.layers.Input(shape=[1])\n",
    "movie_vec = keras.layers.Flatten()(keras.layers.Embedding(n_movies + 1, 32)(movie_input))\n",
    "movie_vec = keras.layers.Dropout(0.2)(movie_vec)\n",
    "\n",
    "# Same thing for the users\n",
    "user_input = keras.layers.Input(shape=[1])\n",
    "user_vec = keras.layers.Flatten()(keras.layers.Embedding(n_users + 1, 32)(user_input))\n",
    "user_vec = keras.layers.Dropout(0.2)(user_vec)\n",
    "\n",
    "# Next, we join them all together and put them\n",
    "# through a pretty standard deep learning architecture\n",
    "input_vecs = keras.layers.merge([movie_vec, user_vec], mode='concat')\n",
    "nn = keras.layers.Dropout(0.5)(keras.layers.Dense(128, activation='relu')(input_vecs))\n",
    "nn = keras.layers.normalization.BatchNormalization()(nn)\n",
    "nn = keras.layers.Dropout(0.5)(keras.layers.Dense(128, activation='relu')(nn))\n",
    "nn = keras.layers.normalization.BatchNormalization()(nn)\n",
    "nn = keras.layers.Dense(128, activation='relu')(nn)\n",
    "\n",
    "# Finally, we pull out the result!\n",
    "result = keras.layers.Dense(5, activation='softmax')(nn)\n",
    "\n",
    "# And make a model from it that we can actually run.\n",
    "model = kmodels.Model([movie_input, user_input], result)\n",
    "model.compile('Adagrad', 'categorical_crossentropy')\n",
    "\n",
    "# If we wanted to inspect part of the model, for example, to look\n",
    "# at the movie vectors, here's how to do it. You don't need to \n",
    "# compile these models unless you're going to train them.\n",
    "final_layer = kmodels.Model([movie_input, user_input], nn)\n",
    "movie_vec = kmodels.Model(movie_input, movie_vec)"
   ]
  },
  {
   "cell_type": "code",
   "execution_count": 267,
   "metadata": {
    "collapsed": false
   },
   "outputs": [],
   "source": [
    "# Split the data into train and test sets...\n",
    "a_movieid, b_movieid, a_userid, b_userid, a_y, b_y = cross_validation.train_test_split(movieid, userid, y)"
   ]
  },
  {
   "cell_type": "code",
   "execution_count": 268,
   "metadata": {
    "collapsed": false
   },
   "outputs": [],
   "source": [
    "\n",
    "# And of _course_ we need to make sure we're improving, so we find the MAE before\n",
    "# training at all.\n",
    "#metrics.mean_absolute_error(np.argmax(b_y, 1)+1, np.argmax(model.predict([b_movieid, b_userid]), 1)+1)"
   ]
  },
  {
   "cell_type": "code",
   "execution_count": 269,
   "metadata": {
    "collapsed": false
   },
   "outputs": [
    {
     "name": "stdout",
     "output_type": "stream",
     "text": [
      "Train on 750156 samples, validate on 250053 samples\n",
      "Epoch 1/20\n",
      "750156/750156 [==============================] - 232s - loss: 1.3611 - val_loss: 1.2891\n",
      "Epoch 2/20\n",
      "750156/750156 [==============================] - 238s - loss: 1.2855 - val_loss: 1.2632\n",
      "Epoch 3/20\n",
      "750156/750156 [==============================] - 246s - loss: 1.2633 - val_loss: 1.2459\n",
      "Epoch 4/20\n",
      "750156/750156 [==============================] - 247s - loss: 1.2481 - val_loss: 1.2345\n",
      "Epoch 5/20\n",
      "750156/750156 [==============================] - 246s - loss: 1.2377 - val_loss: 1.2276\n",
      "Epoch 6/20\n",
      "750156/750156 [==============================] - 245s - loss: 1.2304 - val_loss: 1.2200\n",
      "Epoch 7/20\n",
      "750156/750156 [==============================] - 244s - loss: 1.2253 - val_loss: 1.2174\n",
      "Epoch 8/20\n",
      "750156/750156 [==============================] - 233s - loss: 1.2211 - val_loss: 1.2153\n",
      "Epoch 9/20\n",
      "750156/750156 [==============================] - 226s - loss: 1.2175 - val_loss: 1.2134\n",
      "Epoch 10/20\n",
      "750156/750156 [==============================] - 218s - loss: 1.2150 - val_loss: 1.2123\n",
      "Epoch 11/20\n",
      "750156/750156 [==============================] - 222s - loss: 1.2120 - val_loss: 1.2102\n",
      "Epoch 12/20\n",
      "750156/750156 [==============================] - 229s - loss: 1.2105 - val_loss: 1.2096\n",
      "Epoch 13/20\n",
      "750156/750156 [==============================] - 233s - loss: 1.2083 - val_loss: 1.2095\n",
      "Epoch 14/20\n",
      "750156/750156 [==============================] - 231s - loss: 1.2064 - val_loss: 1.2069\n",
      "Epoch 15/20\n",
      "750156/750156 [==============================] - 230s - loss: 1.2055 - val_loss: 1.2084\n",
      "Epoch 16/20\n",
      "750156/750156 [==============================] - 227s - loss: 1.2033 - val_loss: 1.2059\n",
      "Epoch 17/20\n",
      "750156/750156 [==============================] - 232s - loss: 1.2028 - val_loss: 1.2053\n",
      "Epoch 18/20\n",
      "750156/750156 [==============================] - 231s - loss: 1.2010 - val_loss: 1.2047\n",
      "Epoch 19/20\n",
      "750156/750156 [==============================] - 232s - loss: 1.1994 - val_loss: 1.2060\n",
      "Epoch 20/20\n",
      "750156/750156 [==============================] - 231s - loss: 1.1979 - val_loss: 1.2041\n"
     ]
    }
   ],
   "source": [
    "from keras.callbacks import Callback, EarlyStopping, ModelCheckpoint\n",
    "MODEL_WEIGHTS_FILE = \"REC_V2.h5\"\n",
    "try:\n",
    "    \n",
    "    callbacks = [EarlyStopping('val_loss', patience=2), \n",
    "             ModelCheckpoint(MODEL_WEIGHTS_FILE, save_best_only=True)]\n",
    "    \n",
    "    history = model.fit([a_movieid, a_userid], a_y, \n",
    "                         epochs=20, \n",
    "                         validation_data=([b_movieid, b_userid], b_y), callbacks = callbacks)\n",
    "  \n",
    "except KeyboardInterrupt:\n",
    "    pass"
   ]
  },
  {
   "cell_type": "code",
   "execution_count": 270,
   "metadata": {
    "collapsed": false
   },
   "outputs": [
    {
     "data": {
      "text/plain": [
       "[<matplotlib.lines.Line2D at 0x7f6d0803fd90>]"
      ]
     },
     "execution_count": 270,
     "metadata": {},
     "output_type": "execute_result"
    },
    {
     "data": {
      "image/png": "[encoded data removed]",
      "text/plain": [
       "<matplotlib.figure.Figure at 0x7f6d0803fc10>"
      ]
     },
     "metadata": {},
     "output_type": "display_data"
    }
   ],
   "source": [
    "plot(history.history['loss'])\n",
    "plot(history.history['val_loss'])"
   ]
  },
  {
   "cell_type": "code",
   "execution_count": 257,
   "metadata": {
    "collapsed": false
   },
   "outputs": [
    {
     "data": {
      "text/plain": [
       "0.68285123553806593"
      ]
     },
     "execution_count": 257,
     "metadata": {},
     "output_type": "execute_result"
    }
   ],
   "source": [
    "# This is the number that matters. It's the held out \n",
    "# test set score. Note the + 1, because np.argmax will\n",
    "# go from 0 to 4, while our ratings go 1 to 5.\n",
    "metrics.mean_absolute_error(\n",
    "    np.argmax(b_y, 1)+1, \n",
    "    np.argmax( model.predict([b_movieid, b_userid]), 1)+1)"
   ]
  },
  {
   "cell_type": "code",
   "execution_count": 271,
   "metadata": {
    "collapsed": false
   },
   "outputs": [],
   "source": [
    "#b_movieid.shape, a_userid.shape\n",
    "ret = model.predict([b_movieid, b_userid])"
   ]
  },
  {
   "cell_type": "code",
   "execution_count": 288,
   "metadata": {
    "collapsed": false
   },
   "outputs": [],
   "source": []
  },
  {
   "cell_type": "code",
   "execution_count": 310,
   "metadata": {
    "collapsed": false
   },
   "outputs": [
    {
     "data": {
      "text/html": [
       "<div>\n",
       "<table border=\"1\" class=\"dataframe\">\n",
       "  <thead>\n",
       "    <tr style=\"text-align: right;\">\n",
       "      <th></th>\n",
       "      <th>userid</th>\n",
       "      <th>movieid</th>\n",
       "      <th>rating</th>\n",
       "      <th>timestamp</th>\n",
       "      <th>title</th>\n",
       "      <th>genre</th>\n",
       "    </tr>\n",
       "  </thead>\n",
       "  <tbody>\n",
       "    <tr>\n",
       "      <th>0</th>\n",
       "      <td>6</td>\n",
       "      <td>2406</td>\n",
       "      <td>5</td>\n",
       "      <td>978236670</td>\n",
       "      <td>Romancing the Stone (1984)</td>\n",
       "      <td>[Action, Adventure, Comedy, Romance]</td>\n",
       "    </tr>\n",
       "    <tr>\n",
       "      <th>12</th>\n",
       "      <td>6</td>\n",
       "      <td>48</td>\n",
       "      <td>5</td>\n",
       "      <td>978237570</td>\n",
       "      <td>Pocahontas (1995)</td>\n",
       "      <td>[Animation, Children's, Musical, Romance]</td>\n",
       "    </tr>\n",
       "    <tr>\n",
       "      <th>36</th>\n",
       "      <td>6</td>\n",
       "      <td>3536</td>\n",
       "      <td>5</td>\n",
       "      <td>978238230</td>\n",
       "      <td>Keeping the Faith (2000)</td>\n",
       "      <td>[Comedy, Romance]</td>\n",
       "    </tr>\n",
       "    <tr>\n",
       "      <th>38</th>\n",
       "      <td>6</td>\n",
       "      <td>3753</td>\n",
       "      <td>5</td>\n",
       "      <td>978238195</td>\n",
       "      <td>Patriot, The (2000)</td>\n",
       "      <td>[Action, Drama, War]</td>\n",
       "    </tr>\n",
       "    <tr>\n",
       "      <th>46</th>\n",
       "      <td>6</td>\n",
       "      <td>1947</td>\n",
       "      <td>5</td>\n",
       "      <td>978237767</td>\n",
       "      <td>West Side Story (1961)</td>\n",
       "      <td>[Musical, Romance]</td>\n",
       "    </tr>\n",
       "    <tr>\n",
       "      <th>47</th>\n",
       "      <td>6</td>\n",
       "      <td>2966</td>\n",
       "      <td>5</td>\n",
       "      <td>978237273</td>\n",
       "      <td>Straight Story, The (1999)</td>\n",
       "      <td>[Drama]</td>\n",
       "    </tr>\n",
       "    <tr>\n",
       "      <th>23</th>\n",
       "      <td>6</td>\n",
       "      <td>597</td>\n",
       "      <td>5</td>\n",
       "      <td>978239019</td>\n",
       "      <td>Pretty Woman (1990)</td>\n",
       "      <td>[Comedy, Romance]</td>\n",
       "    </tr>\n",
       "    <tr>\n",
       "      <th>52</th>\n",
       "      <td>6</td>\n",
       "      <td>1088</td>\n",
       "      <td>5</td>\n",
       "      <td>978236670</td>\n",
       "      <td>Dirty Dancing (1987)</td>\n",
       "      <td>[Musical, Romance]</td>\n",
       "    </tr>\n",
       "    <tr>\n",
       "      <th>54</th>\n",
       "      <td>6</td>\n",
       "      <td>199</td>\n",
       "      <td>5</td>\n",
       "      <td>978237570</td>\n",
       "      <td>Umbrellas of Cherbourg, The (Parapluies de Che...</td>\n",
       "      <td>[Drama, Musical]</td>\n",
       "    </tr>\n",
       "    <tr>\n",
       "      <th>33</th>\n",
       "      <td>6</td>\n",
       "      <td>3604</td>\n",
       "      <td>5</td>\n",
       "      <td>978237767</td>\n",
       "      <td>Gypsy (1962)</td>\n",
       "      <td>[Musical]</td>\n",
       "    </tr>\n",
       "    <tr>\n",
       "      <th>56</th>\n",
       "      <td>6</td>\n",
       "      <td>3408</td>\n",
       "      <td>5</td>\n",
       "      <td>978238230</td>\n",
       "      <td>Erin Brockovich (2000)</td>\n",
       "      <td>[Drama]</td>\n",
       "    </tr>\n",
       "    <tr>\n",
       "      <th>13</th>\n",
       "      <td>6</td>\n",
       "      <td>3074</td>\n",
       "      <td>5</td>\n",
       "      <td>978238036</td>\n",
       "      <td>Jeremiah Johnson (1972)</td>\n",
       "      <td>[Western]</td>\n",
       "    </tr>\n",
       "    <tr>\n",
       "      <th>55</th>\n",
       "      <td>6</td>\n",
       "      <td>914</td>\n",
       "      <td>5</td>\n",
       "      <td>978237767</td>\n",
       "      <td>My Fair Lady (1964)</td>\n",
       "      <td>[Musical, Romance]</td>\n",
       "    </tr>\n",
       "    <tr>\n",
       "      <th>64</th>\n",
       "      <td>6</td>\n",
       "      <td>1380</td>\n",
       "      <td>5</td>\n",
       "      <td>978237691</td>\n",
       "      <td>Grease (1978)</td>\n",
       "      <td>[Comedy, Musical, Romance]</td>\n",
       "    </tr>\n",
       "    <tr>\n",
       "      <th>8</th>\n",
       "      <td>6</td>\n",
       "      <td>3501</td>\n",
       "      <td>5</td>\n",
       "      <td>978236670</td>\n",
       "      <td>Murphy's Romance (1985)</td>\n",
       "      <td>[Comedy, Romance]</td>\n",
       "    </tr>\n",
       "    <tr>\n",
       "      <th>4</th>\n",
       "      <td>6</td>\n",
       "      <td>1688</td>\n",
       "      <td>5</td>\n",
       "      <td>978237570</td>\n",
       "      <td>Anastasia (1997)</td>\n",
       "      <td>[Animation, Children's, Musical]</td>\n",
       "    </tr>\n",
       "    <tr>\n",
       "      <th>5</th>\n",
       "      <td>6</td>\n",
       "      <td>1035</td>\n",
       "      <td>5</td>\n",
       "      <td>978237767</td>\n",
       "      <td>Sound of Music, The (1965)</td>\n",
       "      <td>[Musical]</td>\n",
       "    </tr>\n",
       "    <tr>\n",
       "      <th>60</th>\n",
       "      <td>6</td>\n",
       "      <td>2396</td>\n",
       "      <td>4</td>\n",
       "      <td>978236809</td>\n",
       "      <td>Shakespeare in Love (1998)</td>\n",
       "      <td>[Comedy, Romance]</td>\n",
       "    </tr>\n",
       "    <tr>\n",
       "      <th>48</th>\n",
       "      <td>6</td>\n",
       "      <td>266</td>\n",
       "      <td>4</td>\n",
       "      <td>978237909</td>\n",
       "      <td>Legends of the Fall (1994)</td>\n",
       "      <td>[Drama, Romance, War, Western]</td>\n",
       "    </tr>\n",
       "    <tr>\n",
       "      <th>1</th>\n",
       "      <td>6</td>\n",
       "      <td>1101</td>\n",
       "      <td>4</td>\n",
       "      <td>978236670</td>\n",
       "      <td>Top Gun (1986)</td>\n",
       "      <td>[Action, Romance]</td>\n",
       "    </tr>\n",
       "  </tbody>\n",
       "</table>\n",
       "</div>"
      ],
      "text/plain": [
       "    userid  movieid  rating  timestamp  \\\n",
       "0        6     2406       5  978236670   \n",
       "12       6       48       5  978237570   \n",
       "36       6     3536       5  978238230   \n",
       "38       6     3753       5  978238195   \n",
       "46       6     1947       5  978237767   \n",
       "47       6     2966       5  978237273   \n",
       "23       6      597       5  978239019   \n",
       "52       6     1088       5  978236670   \n",
       "54       6      199       5  978237570   \n",
       "33       6     3604       5  978237767   \n",
       "56       6     3408       5  978238230   \n",
       "13       6     3074       5  978238036   \n",
       "55       6      914       5  978237767   \n",
       "64       6     1380       5  978237691   \n",
       "8        6     3501       5  978236670   \n",
       "4        6     1688       5  978237570   \n",
       "5        6     1035       5  978237767   \n",
       "60       6     2396       4  978236809   \n",
       "48       6      266       4  978237909   \n",
       "1        6     1101       4  978236670   \n",
       "\n",
       "                                                title  \\\n",
       "0                          Romancing the Stone (1984)   \n",
       "12                                  Pocahontas (1995)   \n",
       "36                           Keeping the Faith (2000)   \n",
       "38                                Patriot, The (2000)   \n",
       "46                             West Side Story (1961)   \n",
       "47                         Straight Story, The (1999)   \n",
       "23                                Pretty Woman (1990)   \n",
       "52                               Dirty Dancing (1987)   \n",
       "54  Umbrellas of Cherbourg, The (Parapluies de Che...   \n",
       "33                                       Gypsy (1962)   \n",
       "56                             Erin Brockovich (2000)   \n",
       "13                            Jeremiah Johnson (1972)   \n",
       "55                                My Fair Lady (1964)   \n",
       "64                                      Grease (1978)   \n",
       "8                             Murphy's Romance (1985)   \n",
       "4                                    Anastasia (1997)   \n",
       "5                          Sound of Music, The (1965)   \n",
       "60                         Shakespeare in Love (1998)   \n",
       "48                         Legends of the Fall (1994)   \n",
       "1                                      Top Gun (1986)   \n",
       "\n",
       "                                        genre  \n",
       "0        [Action, Adventure, Comedy, Romance]  \n",
       "12  [Animation, Children's, Musical, Romance]  \n",
       "36                          [Comedy, Romance]  \n",
       "38                       [Action, Drama, War]  \n",
       "46                         [Musical, Romance]  \n",
       "47                                    [Drama]  \n",
       "23                          [Comedy, Romance]  \n",
       "52                         [Musical, Romance]  \n",
       "54                           [Drama, Musical]  \n",
       "33                                  [Musical]  \n",
       "56                                    [Drama]  \n",
       "13                                  [Western]  \n",
       "55                         [Musical, Romance]  \n",
       "64                 [Comedy, Musical, Romance]  \n",
       "8                           [Comedy, Romance]  \n",
       "4            [Animation, Children's, Musical]  \n",
       "5                                   [Musical]  \n",
       "60                          [Comedy, Romance]  \n",
       "48             [Drama, Romance, War, Western]  \n",
       "1                           [Action, Romance]  "
      ]
     },
     "execution_count": 310,
     "metadata": {},
     "output_type": "execute_result"
    }
   ],
   "source": [
    "USER = 6\n",
    "ur = ratings[ ratings.userid ==  USER ].merge(movies, \n",
    "                                                on='movieid', \n",
    "                                                how='inner', \n",
    "                                                suffixes=['_u', '_m'])\n",
    "                                                \n",
    "ur.sort_values(by='rating', ascending=False).head(20)                                                    "
   ]
  },
  {
   "cell_type": "code",
   "execution_count": 316,
   "metadata": {
    "collapsed": false
   },
   "outputs": [
    {
     "data": {
      "text/html": [
       "<div>\n",
       "<table border=\"1\" class=\"dataframe\">\n",
       "  <thead>\n",
       "    <tr style=\"text-align: right;\">\n",
       "      <th></th>\n",
       "      <th>movieid</th>\n",
       "      <th>title</th>\n",
       "      <th>genre</th>\n",
       "    </tr>\n",
       "  </thead>\n",
       "  <tbody>\n",
       "    <tr>\n",
       "      <th>48</th>\n",
       "      <td>49</td>\n",
       "      <td>When Night Is Falling (1995)</td>\n",
       "      <td>[Drama, Romance]</td>\n",
       "    </tr>\n",
       "    <tr>\n",
       "      <th>306</th>\n",
       "      <td>309</td>\n",
       "      <td>Red Firecracker, Green Firecracker (1994)</td>\n",
       "      <td>[Drama]</td>\n",
       "    </tr>\n",
       "    <tr>\n",
       "      <th>313</th>\n",
       "      <td>316</td>\n",
       "      <td>Stargate (1994)</td>\n",
       "      <td>[Action, Adventure, Sci-Fi]</td>\n",
       "    </tr>\n",
       "    <tr>\n",
       "      <th>509</th>\n",
       "      <td>513</td>\n",
       "      <td>Radioland Murders (1994)</td>\n",
       "      <td>[Comedy, Mystery, Romance]</td>\n",
       "    </tr>\n",
       "    <tr>\n",
       "      <th>699</th>\n",
       "      <td>708</td>\n",
       "      <td>Truth About Cats &amp; Dogs, The (1996)</td>\n",
       "      <td>[Comedy, Romance]</td>\n",
       "    </tr>\n",
       "    <tr>\n",
       "      <th>792</th>\n",
       "      <td>802</td>\n",
       "      <td>Phenomenon (1996)</td>\n",
       "      <td>[Drama, Romance]</td>\n",
       "    </tr>\n",
       "    <tr>\n",
       "      <th>832</th>\n",
       "      <td>843</td>\n",
       "      <td>Lotto Land (1995)</td>\n",
       "      <td>[Drama]</td>\n",
       "    </tr>\n",
       "    <tr>\n",
       "      <th>850</th>\n",
       "      <td>861</td>\n",
       "      <td>Supercop (1992)</td>\n",
       "      <td>[Action, Thriller]</td>\n",
       "    </tr>\n",
       "    <tr>\n",
       "      <th>1052</th>\n",
       "      <td>1066</td>\n",
       "      <td>Shall We Dance? (1937)</td>\n",
       "      <td>[Comedy, Musical, Romance]</td>\n",
       "    </tr>\n",
       "    <tr>\n",
       "      <th>1770</th>\n",
       "      <td>1839</td>\n",
       "      <td>My Giant (1998)</td>\n",
       "      <td>[Comedy]</td>\n",
       "    </tr>\n",
       "    <tr>\n",
       "      <th>3042</th>\n",
       "      <td>3111</td>\n",
       "      <td>Places in the Heart (1984)</td>\n",
       "      <td>[Drama]</td>\n",
       "    </tr>\n",
       "  </tbody>\n",
       "</table>\n",
       "</div>"
      ],
      "text/plain": [
       "      movieid                                      title  \\\n",
       "48         49               When Night Is Falling (1995)   \n",
       "306       309  Red Firecracker, Green Firecracker (1994)   \n",
       "313       316                            Stargate (1994)   \n",
       "509       513                   Radioland Murders (1994)   \n",
       "699       708        Truth About Cats & Dogs, The (1996)   \n",
       "792       802                          Phenomenon (1996)   \n",
       "832       843                          Lotto Land (1995)   \n",
       "850       861                            Supercop (1992)   \n",
       "1052     1066                     Shall We Dance? (1937)   \n",
       "1770     1839                            My Giant (1998)   \n",
       "3042     3111                 Places in the Heart (1984)   \n",
       "\n",
       "                            genre  \n",
       "48               [Drama, Romance]  \n",
       "306                       [Drama]  \n",
       "313   [Action, Adventure, Sci-Fi]  \n",
       "509    [Comedy, Mystery, Romance]  \n",
       "699             [Comedy, Romance]  \n",
       "792              [Drama, Romance]  \n",
       "832                       [Drama]  \n",
       "850            [Action, Thriller]  \n",
       "1052   [Comedy, Musical, Romance]  \n",
       "1770                     [Comedy]  \n",
       "3042                      [Drama]  "
      ]
     },
     "execution_count": 316,
     "metadata": {},
     "output_type": "execute_result"
    }
   ],
   "source": [
    "nr = np.asarray(ratings[ ~ratings.movieid.isin( ur.movieid)]['movieid'].unique()).astype(np.int16)\n",
    "test_user = np.ones( nr.shape, dtype=np.int)*USER\n",
    "ret = model.predict( [nr, test_user])\n",
    "#best = np.argmax( ret, axis = 1)\n",
    "#best = np.where( best >= 4)[0]\n",
    "best = np.where( ret>.82)[0]\n",
    "movies[ movies.movieid.isin( nr[best] )].head(n=20)"
   ]
  },
  {
   "cell_type": "code",
   "execution_count": 292,
   "metadata": {
    "collapsed": false
   },
   "outputs": [],
   "source": []
  },
  {
   "cell_type": "code",
   "execution_count": 293,
   "metadata": {
    "collapsed": false
   },
   "outputs": [],
   "source": []
  },
  {
   "cell_type": "code",
   "execution_count": 300,
   "metadata": {
    "collapsed": false
   },
   "outputs": [],
   "source": [
    "\n"
   ]
  },
  {
   "cell_type": "code",
   "execution_count": null,
   "metadata": {
    "collapsed": false
   },
   "outputs": [],
   "source": []
  },
  {
   "cell_type": "code",
   "execution_count": null,
   "metadata": {
    "collapsed": true
   },
   "outputs": [],
   "source": []
  }
 ],
 "metadata": {
  "kernelspec": {
   "display_name": "Python 2",
   "language": "python",
   "name": "python2"
  },
  "language_info": {
   "codemirror_mode": {
    "name": "ipython",
    "version": 2
   },
   "file_extension": ".py",
   "mimetype": "text/x-python",
   "name": "python",
   "nbconvert_exporter": "python",
   "pygments_lexer": "ipython2",
   "version": "2.7.6"
  }
 },
 "nbformat": 4,
 "nbformat_minor": 1
}
